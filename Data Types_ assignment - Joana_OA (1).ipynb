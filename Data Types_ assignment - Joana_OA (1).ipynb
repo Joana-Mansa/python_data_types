{
 "cells": [
  {
   "cell_type": "markdown",
   "id": "1971db0e",
   "metadata": {},
   "source": [
    "### Q1\n",
    "List the basic data types in python and give one example each."
   ]
  },
  {
   "cell_type": "markdown",
   "id": "819445b9",
   "metadata": {},
   "source": [
    "1. Strings - 'Ama'\n",
    "2. int - 2\n",
    "3. float- 2.0\n",
    "4. boolean - True\n",
    "5. list - [1, 2, 3]\n",
    "6. tuple - (1,2,3)\n",
    "\n"
   ]
  },
  {
   "cell_type": "markdown",
   "id": "4a2be5ba",
   "metadata": {},
   "source": [
    "### Q2\n",
    "Change the variable x = 4539.85 to :\n",
    "\n",
    "(i) a string and assign it to a new variable y,\n",
    "\n",
    "(ii) an integer and assign it to a new variable z\n",
    "\n",
    "Print out the type of y and z."
   ]
  },
  {
   "cell_type": "code",
   "execution_count": 6,
   "id": "4f69aaca",
   "metadata": {},
   "outputs": [
    {
     "data": {
      "text/plain": [
       "str"
      ]
     },
     "execution_count": 6,
     "metadata": {},
     "output_type": "execute_result"
    }
   ],
   "source": [
    "# the x variable\n",
    "x = 4539.85\n",
    "\n",
    "#checking the data type of x\n",
    "type(x)\n",
    "\n",
    "#changing the type of x\n",
    "y = str(x)\n",
    "\n",
    "# checking the datatype of y\n",
    "type(y)"
   ]
  },
  {
   "cell_type": "markdown",
   "id": "81a1251c",
   "metadata": {},
   "source": [
    "### Q3\n",
    "\n",
    "What data type would you use to store\n",
    "\n",
    "a. The price of car? \n",
    "\n",
    "Ans: float\n",
    "\n",
    "b. The age of a person\n",
    "\n",
    "Ans: int\n",
    "\n",
    "c. car plate number: plateNumber = \"AV01-AFP\"?\n",
    "\n",
    "Ans: string\n",
    "\n",
    "d. The price of fuel\n",
    "\n",
    "Ans: float\n",
    "\n",
    "e. The number of students in the class\n",
    "\n",
    "Ans: int\n",
    "\n",
    "f. The weight of a person\n",
    "\n",
    "Ans:float\n",
    "\n",
    "g. Check whether two figures are equal\n",
    "\n",
    "Ans: boolean\n",
    "\n",
    "i. The name of a  school\n",
    "\n",
    "Ans: string\n",
    "\n",
    "j. The average result of the overall score of a student\n",
    "\n",
    "Ans: float\n",
    "\n",
    "k. The total number of vote cast\n",
    "\n",
    "Ans : int\n"
   ]
  },
  {
   "cell_type": "markdown",
   "id": "f0694362",
   "metadata": {},
   "source": [
    "### Q4\n",
    "**Thomas Partey is arguably the best player in the Black Stars. He is a great addition to the team**\n",
    "\n",
    "Split the statement above into **two statement_1** and **statement_2** such that statement_1 will be 'Thomas Partey is arguably the best player in the Black Stars' and statement_2 will be 'He is a great addition to the team'\n",
    "\n",
    "Statement:\n",
    "\n",
    "- **What is the length of statment 1?**\n",
    "-**What is the length of statment 2?**\n",
    "-**Is the length of statement 1 greater than statement 2**"
   ]
  },
  {
   "cell_type": "code",
   "execution_count": 7,
   "id": "dcdbf3b4",
   "metadata": {},
   "outputs": [
    {
     "data": {
      "text/plain": [
       "['Thomas Partey is arguably the best player in the Black Stars',\n",
       " ' He is a great addition to the team']"
      ]
     },
     "execution_count": 7,
     "metadata": {},
     "output_type": "execute_result"
    }
   ],
   "source": [
    "# create a variable called sentence\n",
    "sentence = 'Thomas Partey is arguably the best player in the Black Stars. He is a great addition to the team'\n",
    "\n",
    "#split the variable using the split function\n",
    "new_s = sentence.split('.')\n",
    "new_s"
   ]
  },
  {
   "cell_type": "code",
   "execution_count": 9,
   "id": "ffdbce33",
   "metadata": {},
   "outputs": [
    {
     "data": {
      "text/plain": [
       "60"
      ]
     },
     "execution_count": 9,
     "metadata": {},
     "output_type": "execute_result"
    }
   ],
   "source": [
    "# 1. What is the length of statment 1\n",
    "# finding the length of statement 2\n",
    "statement_1 = len(new_s[0])\n",
    "statement_1"
   ]
  },
  {
   "cell_type": "code",
   "execution_count": 10,
   "id": "c1f6d3f8",
   "metadata": {},
   "outputs": [
    {
     "data": {
      "text/plain": [
       "35"
      ]
     },
     "execution_count": 10,
     "metadata": {},
     "output_type": "execute_result"
    }
   ],
   "source": [
    "# 2. What is the length of statment 2\n",
    "# find the length of the statement 2\n",
    "statement_2 = len(new_s[1])\n",
    "statement_2"
   ]
  },
  {
   "cell_type": "code",
   "execution_count": 11,
   "id": "00d8acf2",
   "metadata": {},
   "outputs": [
    {
     "data": {
      "text/plain": [
       "True"
      ]
     },
     "execution_count": 11,
     "metadata": {},
     "output_type": "execute_result"
    }
   ],
   "source": [
    "# 3. Is the length of statement 1 greater than statement 2\n",
    "Boo = statement_1 > statement_2\n",
    "Boo"
   ]
  },
  {
   "cell_type": "markdown",
   "id": "ceb46447",
   "metadata": {},
   "source": [
    "### Q5\n",
    "What values does python use to represent **True** and **False** respectively?\n",
    "\n",
    "Ans:\n",
    "\n",
    "True - 1\n",
    "\n",
    "False - 0"
   ]
  },
  {
   "cell_type": "markdown",
   "id": "e4cc9b15",
   "metadata": {},
   "source": [
    "### Q6\n",
    "Write a code to evaluate if the following statments are True or False.\n",
    "\n",
    "1. 78 is greater than 46 and less than 30 which is an odd number.\n",
    "\n",
    "2. 8-2 is an even number or 8 is a is an odd number.\n",
    "\n",
    "3. The number of characters in the word 'boostrap' is 7 and that of 'sample' is 6."
   ]
  },
  {
   "cell_type": "code",
   "execution_count": 58,
   "id": "c54c4e6f",
   "metadata": {},
   "outputs": [
    {
     "data": {
      "text/plain": [
       "False"
      ]
     },
     "execution_count": 58,
     "metadata": {},
     "output_type": "execute_result"
    }
   ],
   "source": [
    "# evaluating the various statements\n",
    "# 1.\n",
    "78 > 46 and 78< 30%2==1\n"
   ]
  },
  {
   "cell_type": "code",
   "execution_count": 53,
   "id": "92f13f8a",
   "metadata": {},
   "outputs": [
    {
     "data": {
      "text/plain": [
       "True"
      ]
     },
     "execution_count": 53,
     "metadata": {},
     "output_type": "execute_result"
    }
   ],
   "source": [
    "# testing if 8 is an even number\n",
    "8%2 == 0"
   ]
  },
  {
   "cell_type": "code",
   "execution_count": 54,
   "id": "4ff7d5a5",
   "metadata": {},
   "outputs": [
    {
     "data": {
      "text/plain": [
       "False"
      ]
     },
     "execution_count": 54,
     "metadata": {},
     "output_type": "execute_result"
    }
   ],
   "source": [
    "# testing if 8 is an odd number\n",
    "8%2==1"
   ]
  },
  {
   "cell_type": "code",
   "execution_count": 56,
   "id": "28d90b4f",
   "metadata": {},
   "outputs": [
    {
     "data": {
      "text/plain": [
       "False"
      ]
     },
     "execution_count": 56,
     "metadata": {},
     "output_type": "execute_result"
    }
   ],
   "source": [
    "(len('bootstrap') == 7) and (len('sample')==6)"
   ]
  },
  {
   "cell_type": "markdown",
   "id": "bc13f9fc",
   "metadata": {},
   "source": [
    "### Q7\n",
    "Given the following python code,\n",
    "\n",
    "`word='Hello, How are you?'`\n",
    "\n",
    "Write Python code to return the following\n",
    "\n",
    "- How\n",
    "- How are you\n",
    "- are\n",
    "- ?\n",
    "- Hello, How are you\n",
    "\n",
    "\n",
    " "
   ]
  },
  {
   "cell_type": "code",
   "execution_count": 17,
   "id": "20dc3df8",
   "metadata": {},
   "outputs": [
    {
     "data": {
      "text/plain": [
       "['Hello', ' How are you?']"
      ]
     },
     "execution_count": 17,
     "metadata": {},
     "output_type": "execute_result"
    }
   ],
   "source": [
    "# spliting the texts\n",
    "word='Hello, How are you?'\n",
    "\n",
    "# returning how\n",
    "words = word.split(',')\n",
    "\n",
    "words"
   ]
  },
  {
   "cell_type": "code",
   "execution_count": 38,
   "id": "1c14e215",
   "metadata": {},
   "outputs": [
    {
     "data": {
      "text/plain": [
       "' How are you?'"
      ]
     },
     "execution_count": 38,
     "metadata": {},
     "output_type": "execute_result"
    }
   ],
   "source": [
    "r = words[1]\n",
    "r"
   ]
  },
  {
   "cell_type": "code",
   "execution_count": 23,
   "id": "4f426445",
   "metadata": {},
   "outputs": [
    {
     "data": {
      "text/plain": [
       "'How'"
      ]
     },
     "execution_count": 23,
     "metadata": {},
     "output_type": "execute_result"
    }
   ],
   "source": [
    "# printing How\n",
    "r[1:4]"
   ]
  },
  {
   "cell_type": "code",
   "execution_count": 26,
   "id": "db3265f5",
   "metadata": {},
   "outputs": [
    {
     "data": {
      "text/plain": [
       "'How are you'"
      ]
     },
     "execution_count": 26,
     "metadata": {},
     "output_type": "execute_result"
    }
   ],
   "source": [
    "# printing how are you\n",
    "r[1:-1]"
   ]
  },
  {
   "cell_type": "code",
   "execution_count": 29,
   "id": "a5e6dcca",
   "metadata": {},
   "outputs": [
    {
     "data": {
      "text/plain": [
       "'are'"
      ]
     },
     "execution_count": 29,
     "metadata": {},
     "output_type": "execute_result"
    }
   ],
   "source": [
    "# printing the are\n",
    "r[5:8]"
   ]
  },
  {
   "cell_type": "code",
   "execution_count": 30,
   "id": "394c56e1",
   "metadata": {},
   "outputs": [
    {
     "data": {
      "text/plain": [
       "'?'"
      ]
     },
     "execution_count": 30,
     "metadata": {},
     "output_type": "execute_result"
    }
   ],
   "source": [
    "r[-1]"
   ]
  },
  {
   "cell_type": "code",
   "execution_count": 31,
   "id": "b7ef9252",
   "metadata": {},
   "outputs": [
    {
     "name": "stdout",
     "output_type": "stream",
     "text": [
      "Hello, How are you?\n"
     ]
    }
   ],
   "source": [
    "# print how are you\n",
    "print(word)"
   ]
  },
  {
   "cell_type": "markdown",
   "id": "e4167de5",
   "metadata": {},
   "source": [
    "### Q8\n",
    "Given the following python code,\n",
    "\n",
    "`sentence = \"I am very excited\"`\n",
    "\n",
    "Write Python code to return \n",
    "- Convert sentence to upper case\n",
    "- Convert sentence to lower case\n",
    "- Convert sentence to title case\n",
    "- Convert sentence to list of strings\n",
    " "
   ]
  },
  {
   "cell_type": "code",
   "execution_count": 32,
   "id": "52d2c3b4",
   "metadata": {},
   "outputs": [
    {
     "data": {
      "text/plain": [
       "'I am very excited'"
      ]
     },
     "execution_count": 32,
     "metadata": {},
     "output_type": "execute_result"
    }
   ],
   "source": [
    "# sentence\n",
    "sentence = \"I am very excited\"\n",
    "sentence"
   ]
  },
  {
   "cell_type": "code",
   "execution_count": 33,
   "id": "b142f70b",
   "metadata": {},
   "outputs": [
    {
     "data": {
      "text/plain": [
       "'I AM VERY EXCITED'"
      ]
     },
     "execution_count": 33,
     "metadata": {},
     "output_type": "execute_result"
    }
   ],
   "source": [
    "# capital letters\n",
    "sentence.upper()"
   ]
  },
  {
   "cell_type": "code",
   "execution_count": 34,
   "id": "66e47717",
   "metadata": {},
   "outputs": [
    {
     "data": {
      "text/plain": [
       "'i am very excited'"
      ]
     },
     "execution_count": 34,
     "metadata": {},
     "output_type": "execute_result"
    }
   ],
   "source": [
    "# lower case\n",
    "sentence.lower()"
   ]
  },
  {
   "cell_type": "code",
   "execution_count": 35,
   "id": "e6a30815",
   "metadata": {},
   "outputs": [
    {
     "data": {
      "text/plain": [
       "'I Am Very Excited'"
      ]
     },
     "execution_count": 35,
     "metadata": {},
     "output_type": "execute_result"
    }
   ],
   "source": [
    "# title case\n",
    "sentence.title()"
   ]
  },
  {
   "cell_type": "code",
   "execution_count": 36,
   "id": "95a4bbfa",
   "metadata": {},
   "outputs": [
    {
     "data": {
      "text/plain": [
       "['I', 'am', 'very', 'excited']"
      ]
     },
     "execution_count": 36,
     "metadata": {},
     "output_type": "execute_result"
    }
   ],
   "source": [
    "sentence.split(' ')"
   ]
  },
  {
   "cell_type": "markdown",
   "id": "4faf0134",
   "metadata": {},
   "source": [
    "### Q9\n",
    "`word = 'OneThirtyEight'`\n",
    "\n",
    "Using Python code extract the following from the variable word:\n",
    "- One\n",
    "- Thirty\n",
    "- Eight\n",
    "- OneThirty\n",
    "- ThirtyEight\n",
    "- ONETHIRTYEIGHT"
   ]
  },
  {
   "cell_type": "code",
   "execution_count": 40,
   "id": "430d9ab3",
   "metadata": {},
   "outputs": [
    {
     "data": {
      "text/plain": [
       "'One'"
      ]
     },
     "execution_count": 40,
     "metadata": {},
     "output_type": "execute_result"
    }
   ],
   "source": [
    "# printing one\n",
    "word = 'OneThirtyEight'\n",
    "word[0:3]"
   ]
  },
  {
   "cell_type": "code",
   "execution_count": 42,
   "id": "8cf88f89",
   "metadata": {},
   "outputs": [
    {
     "data": {
      "text/plain": [
       "'Thirty'"
      ]
     },
     "execution_count": 42,
     "metadata": {},
     "output_type": "execute_result"
    }
   ],
   "source": [
    "# printing thirty\n",
    "word[3:9]"
   ]
  },
  {
   "cell_type": "code",
   "execution_count": 45,
   "id": "87aedb69",
   "metadata": {},
   "outputs": [
    {
     "data": {
      "text/plain": [
       "'Eight'"
      ]
     },
     "execution_count": 45,
     "metadata": {},
     "output_type": "execute_result"
    }
   ],
   "source": [
    "# printing eight\n",
    "word[9:]"
   ]
  },
  {
   "cell_type": "code",
   "execution_count": 46,
   "id": "b6346af3",
   "metadata": {},
   "outputs": [
    {
     "data": {
      "text/plain": [
       "'OneThirty'"
      ]
     },
     "execution_count": 46,
     "metadata": {},
     "output_type": "execute_result"
    }
   ],
   "source": [
    "# printing one thirty\n",
    "word[0:9]"
   ]
  },
  {
   "cell_type": "code",
   "execution_count": 47,
   "id": "2f851497",
   "metadata": {},
   "outputs": [
    {
     "data": {
      "text/plain": [
       "'ThirtyEight'"
      ]
     },
     "execution_count": 47,
     "metadata": {},
     "output_type": "execute_result"
    }
   ],
   "source": [
    "# printing thirtyeight\n",
    "word[3:]"
   ]
  },
  {
   "cell_type": "code",
   "execution_count": 48,
   "id": "50de228f",
   "metadata": {},
   "outputs": [
    {
     "data": {
      "text/plain": [
       "'ONETHIRTYEIGHT'"
      ]
     },
     "execution_count": 48,
     "metadata": {},
     "output_type": "execute_result"
    }
   ],
   "source": [
    "# typing the capital letters\n",
    "word.upper()"
   ]
  },
  {
   "cell_type": "markdown",
   "id": "2a4eea1f",
   "metadata": {},
   "source": [
    "### Q10\n",
    "Turn Ault'Kelly into a string and assign it to a variable  called name."
   ]
  },
  {
   "cell_type": "code",
   "execution_count": 49,
   "id": "aa2f0a08",
   "metadata": {},
   "outputs": [
    {
     "data": {
      "text/plain": [
       "\"Ault'Kelly\""
      ]
     },
     "execution_count": 49,
     "metadata": {},
     "output_type": "execute_result"
    }
   ],
   "source": [
    "name = str(\"Ault'Kelly\")\n",
    "name"
   ]
  },
  {
   "cell_type": "code",
   "execution_count": null,
   "id": "ea7b5b3a",
   "metadata": {},
   "outputs": [],
   "source": []
  }
 ],
 "metadata": {
  "kernelspec": {
   "display_name": "Python 3 (ipykernel)",
   "language": "python",
   "name": "python3"
  },
  "language_info": {
   "codemirror_mode": {
    "name": "ipython",
    "version": 3
   },
   "file_extension": ".py",
   "mimetype": "text/x-python",
   "name": "python",
   "nbconvert_exporter": "python",
   "pygments_lexer": "ipython3",
   "version": "3.9.13"
  }
 },
 "nbformat": 4,
 "nbformat_minor": 5
}
